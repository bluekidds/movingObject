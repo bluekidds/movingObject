{
 "cells": [
  {
   "cell_type": "code",
   "execution_count": null,
   "metadata": {
    "collapsed": false
   },
   "outputs": [],
   "source": [
    "%matplotlib inline\n",
    "%pylab inline \n",
    "\n",
    "from IPython.display import clear_output\n",
    "import cv2\n",
    "from matplotlib import pyplot as plt\n",
    "import numpy as np\n",
    "import time as t\n",
    "from motionUtility import isMoving\n",
    "print \"OpenCV Version : %s \" % cv2.__version__"
   ]
  },
  {
   "cell_type": "markdown",
   "metadata": {
    "collapsed": true
   },
   "source": [
    "算法流程:\n",
    "\n",
    "1. 擷取影像 \n",
    "\n",
    "** 背景算法 **  -- Ignored\n",
    "\n",
    "1. 使用BackgroundSubtractorMOG\n",
    "2. 得到背景\n",
    "** **\n",
    "\n",
    "** 判斷黑盒 ** \n",
    "1. 前景強度判斷\n",
    "\n",
    "** 判斷黑盒 ** \n",
    "** **\n",
    "(5) 顯示"
   ]
  },
  {
   "cell_type": "code",
   "execution_count": null,
   "metadata": {
    "collapsed": true
   },
   "outputs": [],
   "source": [
    "MAX = 50000\n",
    "threshold = 10000"
   ]
  },
  {
   "cell_type": "code",
   "execution_count": null,
   "metadata": {
    "collapsed": false
   },
   "outputs": [],
   "source": [
    "cap = cv2.VideoCapture('/Volumes/Data/FengFuVideo/FF1_2016-08-17-06_08.mkv')\n",
    "fgbg = cv2.bgsegm.createBackgroundSubtractorMOG()\n",
    "\n",
    "\n",
    "\n",
    "try:\n",
    "    while(1):\n",
    "        ret, img = cap.read() \n",
    "        frame = cv2.cvtColor(img, cv2.COLOR_BGR2RGB) # OPENCV reads in BGR\n",
    "        \n",
    "        # Setting drawing environment\n",
    "        axis('off')\n",
    "\n",
    "        title(\"Input Stream\")\n",
    "                \n",
    "        if isMoving(img, fgbg):            \n",
    "            imshow(frame)\n",
    "            show()\n",
    "        \n",
    "        clear_output(wait=True)\n",
    "        \n",
    "        \n",
    "except KeyboardInterrupt:\n",
    "    cap.release()\n",
    "    cv2.destroyAllWindows()"
   ]
  },
  {
   "cell_type": "code",
   "execution_count": null,
   "metadata": {
    "collapsed": true
   },
   "outputs": [],
   "source": []
  }
 ],
 "metadata": {
  "kernelspec": {
   "display_name": "Python 2",
   "language": "python",
   "name": "python2"
  },
  "language_info": {
   "codemirror_mode": {
    "name": "ipython",
    "version": 2
   },
   "file_extension": ".py",
   "mimetype": "text/x-python",
   "name": "python",
   "nbconvert_exporter": "python",
   "pygments_lexer": "ipython2",
   "version": "2.7.12"
  }
 },
 "nbformat": 4,
 "nbformat_minor": 1
}
